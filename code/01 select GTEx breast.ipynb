{
 "cells": [
  {
   "cell_type": "code",
   "execution_count": 1,
   "id": "7b67cb3a",
   "metadata": {},
   "outputs": [],
   "source": [
    "import pyspark"
   ]
  },
  {
   "cell_type": "code",
   "execution_count": 2,
   "id": "9f9e0e2d",
   "metadata": {},
   "outputs": [],
   "source": [
    "from pyspark import SparkContext, SparkConf\n",
    "from pyspark.sql import SparkSession\n",
    "\n",
    "spark = SparkSession.builder \\\n",
    "    .master(\"local\") \\\n",
    "    .appName(\"Spark\") \\\n",
    "    .config('spark.sql.repl.eagerEval.enabled', 'True') \\\n",
    "    .getOrCreate()"
   ]
  },
  {
   "cell_type": "code",
   "execution_count": null,
   "id": "3584e0d7",
   "metadata": {},
   "outputs": [],
   "source": [
    "#spark.conf.set(\"spark.executor.memory\", '4g')\n",
    "#spark.conf.set('spark.executor.cores', '3')\n",
    "#spark.conf.set('spark.cores.max', '3')\n",
    "#spark.conf.set(\"spark.driver.memory\",'4g')"
   ]
  },
  {
   "cell_type": "code",
   "execution_count": 3,
   "id": "d8fbdf1c",
   "metadata": {},
   "outputs": [],
   "source": [
    "sc = spark.sparkContext"
   ]
  },
  {
   "cell_type": "code",
   "execution_count": 4,
   "id": "35adffbf",
   "metadata": {},
   "outputs": [
    {
     "data": {
      "text/plain": [
       "'3.1.1'"
      ]
     },
     "execution_count": 4,
     "metadata": {},
     "output_type": "execute_result"
    }
   ],
   "source": [
    "sc.version"
   ]
  },
  {
   "cell_type": "code",
   "execution_count": 5,
   "id": "57625d00",
   "metadata": {},
   "outputs": [
    {
     "data": {
      "text/plain": [
       "[('spark.master', 'local'),\n",
       " ('spark.sql.warehouse.dir', 'file:/home/jovyan/code/spark-warehouse'),\n",
       " ('spark.app.name', 'Spark'),\n",
       " ('spark.sql.repl.eagerEval.enabled', 'True'),\n",
       " ('spark.app.id', 'local-1620297360260'),\n",
       " ('spark.executor.id', 'driver'),\n",
       " ('spark.driver.host', 'b5a3f48f8f4b'),\n",
       " ('spark.driver.extraJavaOptions',\n",
       "  '-Dio.netty.tryReflectionSetAccessible=true'),\n",
       " ('spark.rdd.compress', 'True'),\n",
       " ('spark.app.startTime', '1620297359181'),\n",
       " ('spark.serializer.objectStreamReset', '100'),\n",
       " ('spark.submit.pyFiles', ''),\n",
       " ('spark.submit.deployMode', 'client'),\n",
       " ('spark.executor.extraJavaOptions',\n",
       "  '-Dio.netty.tryReflectionSetAccessible=true'),\n",
       " ('spark.ui.showConsoleProgress', 'true'),\n",
       " ('spark.driver.port', '33293')]"
      ]
     },
     "execution_count": 5,
     "metadata": {},
     "output_type": "execute_result"
    }
   ],
   "source": [
    "sc.getConf().getAll()"
   ]
  },
  {
   "cell_type": "code",
   "execution_count": null,
   "id": "99a4ae57",
   "metadata": {},
   "outputs": [],
   "source": []
  },
  {
   "cell_type": "code",
   "execution_count": 4,
   "id": "9d279742",
   "metadata": {},
   "outputs": [],
   "source": [
    "TcgaTargetGTEX_phenotype = spark.read.options(header=True, inferSchema=True, delimiter='\\t').csv(\"../data/TcgaTargetGTEX_phenotype.txt.gz\")"
   ]
  },
  {
   "cell_type": "code",
   "execution_count": 5,
   "id": "7f87a403",
   "metadata": {},
   "outputs": [],
   "source": [
    "TcgaTargetGTEX_phenotype.createOrReplaceTempView(\"phenotype\")"
   ]
  },
  {
   "cell_type": "code",
   "execution_count": 7,
   "id": "33ffb566",
   "metadata": {},
   "outputs": [],
   "source": [
    "GTEx_breast = spark.sql(\"SELECT * FROM phenotype where _study = 'GTEX' and _primary_site = 'Breast'\")"
   ]
  },
  {
   "cell_type": "code",
   "execution_count": 9,
   "id": "df5eeeb9",
   "metadata": {},
   "outputs": [
    {
     "data": {
      "text/plain": [
       "pyspark.sql.dataframe.DataFrame"
      ]
     },
     "execution_count": 9,
     "metadata": {},
     "output_type": "execute_result"
    }
   ],
   "source": [
    "type(GTEx_breast)"
   ]
  },
  {
   "cell_type": "code",
   "execution_count": 11,
   "id": "d1107a4a",
   "metadata": {},
   "outputs": [
    {
     "data": {
      "text/plain": [
       "Row(sample='GTEX-T6MN-0726-SM-32PML', detailed_category='Breast - Mammary Tissue', primary disease or tissue='Breast - Mammary Tissue', _primary_site='Breast', _sample_type='Normal Tissue', _gender='Male', _study='GTEX')"
      ]
     },
     "execution_count": 11,
     "metadata": {},
     "output_type": "execute_result"
    }
   ],
   "source": [
    "GTEx_breast.head()"
   ]
  },
  {
   "cell_type": "code",
   "execution_count": 47,
   "id": "4d59f0fb",
   "metadata": {},
   "outputs": [],
   "source": [
    "GTEx_breast_sample = GTEx_breast.select(\"sample\").rdd.flatMap(lambda x: x).collect()"
   ]
  },
  {
   "cell_type": "code",
   "execution_count": null,
   "id": "a91d742b",
   "metadata": {},
   "outputs": [],
   "source": []
  },
  {
   "cell_type": "code",
   "execution_count": 6,
   "id": "cd2aedc2",
   "metadata": {},
   "outputs": [],
   "source": [
    "Ensembl_gene_type = spark.read.options(header=True, inferSchema=True, delimiter=',').csv(\"../data/Ensembl_gene_name_type.csv\")"
   ]
  },
  {
   "cell_type": "code",
   "execution_count": 7,
   "id": "7f61f9c5",
   "metadata": {},
   "outputs": [],
   "source": [
    "genetype = Ensembl_gene_type.createOrReplaceTempView(\"genetype\")"
   ]
  },
  {
   "cell_type": "code",
   "execution_count": null,
   "id": "6d160ffa",
   "metadata": {},
   "outputs": [],
   "source": []
  },
  {
   "cell_type": "code",
   "execution_count": null,
   "id": "e1d2423f",
   "metadata": {},
   "outputs": [],
   "source": []
  },
  {
   "cell_type": "code",
   "execution_count": 9,
   "id": "42e0d47c",
   "metadata": {},
   "outputs": [],
   "source": [
    "TcgaTargetGtex_RSEM_Hugo_norm_count = spark.read.options(header=True, inferSchema=True, delimiter='\\t').csv(\"../data/TcgaTargetGtex_RSEM_Hugo_norm_count.gz\")"
   ]
  },
  {
   "cell_type": "code",
   "execution_count": 12,
   "id": "fb7a68d9",
   "metadata": {},
   "outputs": [],
   "source": [
    "genelist = TcgaTargetGtex_RSEM_Hugo_norm_count.select(\"sample\").rdd.flatMap(lambda x: x).collect()"
   ]
  },
  {
   "cell_type": "code",
   "execution_count": 15,
   "id": "ee2de28b",
   "metadata": {},
   "outputs": [],
   "source": [
    "genes = TcgaTargetGtex_RSEM_Hugo_norm_count.select(\"sample\")"
   ]
  },
  {
   "cell_type": "code",
   "execution_count": 17,
   "id": "d0afb63c",
   "metadata": {},
   "outputs": [],
   "source": [
    "gene = genes.createOrReplaceTempView(\"gene\")"
   ]
  },
  {
   "cell_type": "code",
   "execution_count": 20,
   "id": "f48ac716",
   "metadata": {},
   "outputs": [],
   "source": [
    "Ensembl_TCGA_GETx_gene_type = spark.sql(\"SELECT Gene_name, Gene_type FROM gene INNER JOIN genetype ON gene.sample = genetype.gene_name\")"
   ]
  },
  {
   "cell_type": "code",
   "execution_count": 22,
   "id": "e8551a8d",
   "metadata": {},
   "outputs": [],
   "source": [
    "Ensembl_TCGA_GETx_gene_type.write.format(\"csv\").save(\"../data/Ensembl_TCGA_GETx_gene_type.csv\")"
   ]
  },
  {
   "cell_type": "code",
   "execution_count": 25,
   "id": "e42e1005",
   "metadata": {},
   "outputs": [
    {
     "data": {
      "text/html": [
       "<table border='1'>\n",
       "<tr><th>Gene_type</th><th>count</th></tr>\n",
       "<tr><td>protein_coding</td><td>21721</td></tr>\n",
       "<tr><td>miRNA</td><td>2743</td></tr>\n",
       "<tr><td>lincRNA</td><td>6589</td></tr>\n",
       "</table>\n"
      ],
      "text/plain": [
       "+--------------+-----+\n",
       "|     Gene_type|count|\n",
       "+--------------+-----+\n",
       "|protein_coding|21721|\n",
       "|         miRNA| 2743|\n",
       "|       lincRNA| 6589|\n",
       "+--------------+-----+"
      ]
     },
     "execution_count": 25,
     "metadata": {},
     "output_type": "execute_result"
    }
   ],
   "source": [
    "Ensembl_TCGA_GETx_gene_type.groupby(\"Gene_type\").count()"
   ]
  },
  {
   "cell_type": "code",
   "execution_count": null,
   "id": "070d19ea",
   "metadata": {},
   "outputs": [],
   "source": []
  },
  {
   "cell_type": "code",
   "execution_count": 68,
   "id": "ef1d9d29",
   "metadata": {},
   "outputs": [
    {
     "data": {
      "text/plain": [
       "list"
      ]
     },
     "execution_count": 68,
     "metadata": {},
     "output_type": "execute_result"
    }
   ],
   "source": [
    "type(GTEx_breast_sample)"
   ]
  },
  {
   "cell_type": "code",
   "execution_count": 69,
   "id": "93c65567",
   "metadata": {},
   "outputs": [],
   "source": [
    "test = ['sample']"
   ]
  },
  {
   "cell_type": "code",
   "execution_count": 70,
   "id": "0d767cb4",
   "metadata": {},
   "outputs": [
    {
     "data": {
      "text/plain": [
       "list"
      ]
     },
     "execution_count": 70,
     "metadata": {},
     "output_type": "execute_result"
    }
   ],
   "source": [
    "type(test)"
   ]
  },
  {
   "cell_type": "code",
   "execution_count": 71,
   "id": "8e7fc3f4",
   "metadata": {},
   "outputs": [],
   "source": [
    "test.extend(GTEx_breast_sample)"
   ]
  },
  {
   "cell_type": "code",
   "execution_count": null,
   "id": "aadaa2a4",
   "metadata": {},
   "outputs": [],
   "source": []
  },
  {
   "cell_type": "code",
   "execution_count": 74,
   "id": "0b8ed924",
   "metadata": {},
   "outputs": [],
   "source": [
    "GTEx_Breast_norm_count = TcgaTargetGtex_RSEM_Hugo_norm_count.select(test)"
   ]
  },
  {
   "cell_type": "code",
   "execution_count": 104,
   "id": "4b190444",
   "metadata": {},
   "outputs": [],
   "source": [
    "pandasDF = GTEx_Breast_norm_count.toPandas().set_index('sample').transpose()"
   ]
  },
  {
   "cell_type": "code",
   "execution_count": 121,
   "id": "d920427b",
   "metadata": {},
   "outputs": [
    {
     "data": {
      "text/html": [
       "<div>\n",
       "<style scoped>\n",
       "    .dataframe tbody tr th:only-of-type {\n",
       "        vertical-align: middle;\n",
       "    }\n",
       "\n",
       "    .dataframe tbody tr th {\n",
       "        vertical-align: top;\n",
       "    }\n",
       "\n",
       "    .dataframe thead th {\n",
       "        text-align: right;\n",
       "    }\n",
       "</style>\n",
       "<table border=\"1\" class=\"dataframe\">\n",
       "  <thead>\n",
       "    <tr style=\"text-align: right;\">\n",
       "      <th>sample</th>\n",
       "      <th>CTD-2588J6.1</th>\n",
       "      <th>RP11-433M22.1</th>\n",
       "      <th>CTD-2588J6.2</th>\n",
       "      <th>RP3-415N12.1</th>\n",
       "      <th>RP11-16E12.2</th>\n",
       "      <th>RP11-433M22.2</th>\n",
       "      <th>PSMA2P3</th>\n",
       "      <th>RP11-181G12.4</th>\n",
       "      <th>RP11-181G12.2</th>\n",
       "      <th>AC007272.3</th>\n",
       "      <th>...</th>\n",
       "      <th>RP11-390F4.3</th>\n",
       "      <th>GNGT2</th>\n",
       "      <th>GNGT1</th>\n",
       "      <th>SELT</th>\n",
       "      <th>DIAPH2-AS1</th>\n",
       "      <th>SELV</th>\n",
       "      <th>NFIX</th>\n",
       "      <th>SELP</th>\n",
       "      <th>AC002386.1</th>\n",
       "      <th>RP11-526P5.2</th>\n",
       "    </tr>\n",
       "  </thead>\n",
       "  <tbody>\n",
       "    <tr>\n",
       "      <th>GTEX-T6MN-0726-SM-32PML</th>\n",
       "      <td>1.4482</td>\n",
       "      <td>0.0</td>\n",
       "      <td>0.0</td>\n",
       "      <td>2.8177</td>\n",
       "      <td>3.5074</td>\n",
       "      <td>0.8986</td>\n",
       "      <td>0.0000</td>\n",
       "      <td>0.8986</td>\n",
       "      <td>6.8026</td>\n",
       "      <td>0.0000</td>\n",
       "      <td>...</td>\n",
       "      <td>6.4923</td>\n",
       "      <td>3.6131</td>\n",
       "      <td>0.0000</td>\n",
       "      <td>11.0095</td>\n",
       "      <td>1.4482</td>\n",
       "      <td>1.4482</td>\n",
       "      <td>13.2609</td>\n",
       "      <td>9.8067</td>\n",
       "      <td>0.0</td>\n",
       "      <td>0.0</td>\n",
       "    </tr>\n",
       "    <tr>\n",
       "      <th>GTEX-13NZB-2126-SM-5MR4Y</th>\n",
       "      <td>0.0000</td>\n",
       "      <td>0.0</td>\n",
       "      <td>0.0</td>\n",
       "      <td>0.0000</td>\n",
       "      <td>1.0154</td>\n",
       "      <td>0.0000</td>\n",
       "      <td>0.0000</td>\n",
       "      <td>0.0000</td>\n",
       "      <td>6.6302</td>\n",
       "      <td>0.0000</td>\n",
       "      <td>...</td>\n",
       "      <td>5.8881</td>\n",
       "      <td>4.7844</td>\n",
       "      <td>0.0000</td>\n",
       "      <td>11.0757</td>\n",
       "      <td>1.0154</td>\n",
       "      <td>3.1972</td>\n",
       "      <td>12.6347</td>\n",
       "      <td>9.8917</td>\n",
       "      <td>0.0</td>\n",
       "      <td>0.0</td>\n",
       "    </tr>\n",
       "    <tr>\n",
       "      <th>GTEX-ZU9S-1926-SM-5NQBP</th>\n",
       "      <td>0.0000</td>\n",
       "      <td>0.0</td>\n",
       "      <td>0.0</td>\n",
       "      <td>1.4965</td>\n",
       "      <td>1.9000</td>\n",
       "      <td>0.0000</td>\n",
       "      <td>0.0000</td>\n",
       "      <td>0.0000</td>\n",
       "      <td>6.7367</td>\n",
       "      <td>0.0000</td>\n",
       "      <td>...</td>\n",
       "      <td>6.3745</td>\n",
       "      <td>4.5215</td>\n",
       "      <td>0.0000</td>\n",
       "      <td>11.4081</td>\n",
       "      <td>2.5108</td>\n",
       "      <td>3.9609</td>\n",
       "      <td>13.2720</td>\n",
       "      <td>8.6533</td>\n",
       "      <td>0.0</td>\n",
       "      <td>0.0</td>\n",
       "    </tr>\n",
       "    <tr>\n",
       "      <th>GTEX-11DXW-0626-SM-5N9ER</th>\n",
       "      <td>0.0000</td>\n",
       "      <td>0.0</td>\n",
       "      <td>0.0</td>\n",
       "      <td>1.0942</td>\n",
       "      <td>2.4699</td>\n",
       "      <td>0.0000</td>\n",
       "      <td>0.0000</td>\n",
       "      <td>1.0942</td>\n",
       "      <td>6.5205</td>\n",
       "      <td>0.0000</td>\n",
       "      <td>...</td>\n",
       "      <td>5.7641</td>\n",
       "      <td>4.7636</td>\n",
       "      <td>0.0000</td>\n",
       "      <td>10.8074</td>\n",
       "      <td>1.0942</td>\n",
       "      <td>1.7093</td>\n",
       "      <td>12.8925</td>\n",
       "      <td>11.0399</td>\n",
       "      <td>0.0</td>\n",
       "      <td>0.0</td>\n",
       "    </tr>\n",
       "    <tr>\n",
       "      <th>GTEX-UPK5-2326-SM-3P5Z8</th>\n",
       "      <td>1.2686</td>\n",
       "      <td>0.0</td>\n",
       "      <td>0.0</td>\n",
       "      <td>1.9330</td>\n",
       "      <td>2.7305</td>\n",
       "      <td>0.0000</td>\n",
       "      <td>1.2686</td>\n",
       "      <td>0.0000</td>\n",
       "      <td>6.5973</td>\n",
       "      <td>1.8979</td>\n",
       "      <td>...</td>\n",
       "      <td>5.6328</td>\n",
       "      <td>5.2937</td>\n",
       "      <td>0.7694</td>\n",
       "      <td>10.9437</td>\n",
       "      <td>2.5686</td>\n",
       "      <td>1.2686</td>\n",
       "      <td>12.6923</td>\n",
       "      <td>11.0987</td>\n",
       "      <td>0.0</td>\n",
       "      <td>0.0</td>\n",
       "    </tr>\n",
       "  </tbody>\n",
       "</table>\n",
       "<p>5 rows × 58581 columns</p>\n",
       "</div>"
      ],
      "text/plain": [
       "sample                    CTD-2588J6.1  RP11-433M22.1  CTD-2588J6.2  \\\n",
       "GTEX-T6MN-0726-SM-32PML         1.4482            0.0           0.0   \n",
       "GTEX-13NZB-2126-SM-5MR4Y        0.0000            0.0           0.0   \n",
       "GTEX-ZU9S-1926-SM-5NQBP         0.0000            0.0           0.0   \n",
       "GTEX-11DXW-0626-SM-5N9ER        0.0000            0.0           0.0   \n",
       "GTEX-UPK5-2326-SM-3P5Z8         1.2686            0.0           0.0   \n",
       "\n",
       "sample                    RP3-415N12.1  RP11-16E12.2  RP11-433M22.2  PSMA2P3  \\\n",
       "GTEX-T6MN-0726-SM-32PML         2.8177        3.5074         0.8986   0.0000   \n",
       "GTEX-13NZB-2126-SM-5MR4Y        0.0000        1.0154         0.0000   0.0000   \n",
       "GTEX-ZU9S-1926-SM-5NQBP         1.4965        1.9000         0.0000   0.0000   \n",
       "GTEX-11DXW-0626-SM-5N9ER        1.0942        2.4699         0.0000   0.0000   \n",
       "GTEX-UPK5-2326-SM-3P5Z8         1.9330        2.7305         0.0000   1.2686   \n",
       "\n",
       "sample                    RP11-181G12.4  RP11-181G12.2  AC007272.3  ...  \\\n",
       "GTEX-T6MN-0726-SM-32PML          0.8986         6.8026      0.0000  ...   \n",
       "GTEX-13NZB-2126-SM-5MR4Y         0.0000         6.6302      0.0000  ...   \n",
       "GTEX-ZU9S-1926-SM-5NQBP          0.0000         6.7367      0.0000  ...   \n",
       "GTEX-11DXW-0626-SM-5N9ER         1.0942         6.5205      0.0000  ...   \n",
       "GTEX-UPK5-2326-SM-3P5Z8          0.0000         6.5973      1.8979  ...   \n",
       "\n",
       "sample                    RP11-390F4.3   GNGT2   GNGT1     SELT  DIAPH2-AS1  \\\n",
       "GTEX-T6MN-0726-SM-32PML         6.4923  3.6131  0.0000  11.0095      1.4482   \n",
       "GTEX-13NZB-2126-SM-5MR4Y        5.8881  4.7844  0.0000  11.0757      1.0154   \n",
       "GTEX-ZU9S-1926-SM-5NQBP         6.3745  4.5215  0.0000  11.4081      2.5108   \n",
       "GTEX-11DXW-0626-SM-5N9ER        5.7641  4.7636  0.0000  10.8074      1.0942   \n",
       "GTEX-UPK5-2326-SM-3P5Z8         5.6328  5.2937  0.7694  10.9437      2.5686   \n",
       "\n",
       "sample                      SELV     NFIX     SELP  AC002386.1  RP11-526P5.2  \n",
       "GTEX-T6MN-0726-SM-32PML   1.4482  13.2609   9.8067         0.0           0.0  \n",
       "GTEX-13NZB-2126-SM-5MR4Y  3.1972  12.6347   9.8917         0.0           0.0  \n",
       "GTEX-ZU9S-1926-SM-5NQBP   3.9609  13.2720   8.6533         0.0           0.0  \n",
       "GTEX-11DXW-0626-SM-5N9ER  1.7093  12.8925  11.0399         0.0           0.0  \n",
       "GTEX-UPK5-2326-SM-3P5Z8   1.2686  12.6923  11.0987         0.0           0.0  \n",
       "\n",
       "[5 rows x 58581 columns]"
      ]
     },
     "execution_count": 121,
     "metadata": {},
     "output_type": "execute_result"
    }
   ],
   "source": [
    "pandasDF.head()"
   ]
  },
  {
   "cell_type": "code",
   "execution_count": 103,
   "id": "ccae2a91",
   "metadata": {},
   "outputs": [],
   "source": [
    "spark.conf.set(\"spark.sql.execution.arrow.enabled\",\"true\")"
   ]
  },
  {
   "cell_type": "code",
   "execution_count": null,
   "id": "f7b345d2",
   "metadata": {},
   "outputs": [],
   "source": [
    "sparkDF=spark.createDataFrame(pandasDF.reset_index()) "
   ]
  },
  {
   "cell_type": "code",
   "execution_count": 118,
   "id": "2ce0d735",
   "metadata": {},
   "outputs": [
    {
     "data": {
      "text/plain": [
       "['CTD-2588J6.1',\n",
       " 'RP11-433M22.1',\n",
       " 'CTD-2588J6.2',\n",
       " 'RP3-415N12.1',\n",
       " 'RP11-16E12.2',\n",
       " 'RP11-433M22.2',\n",
       " 'PSMA2P3',\n",
       " 'RP11-181G12.4',\n",
       " 'RP11-181G12.2',\n",
       " 'AC007272.3']"
      ]
     },
     "execution_count": 118,
     "metadata": {},
     "output_type": "execute_result"
    }
   ],
   "source": [
    "sparkDF.columns[0:10]"
   ]
  },
  {
   "cell_type": "code",
   "execution_count": 120,
   "id": "a1f67f5d",
   "metadata": {},
   "outputs": [
    {
     "ename": "Py4JJavaError",
     "evalue": "An error occurred while calling o1098.stat.\n: java.lang.OutOfMemoryError: Java heap space\n",
     "output_type": "error",
     "traceback": [
      "\u001b[0;31m---------------------------------------------------------------------------\u001b[0m",
      "\u001b[0;31mPy4JJavaError\u001b[0m                             Traceback (most recent call last)",
      "\u001b[0;32m<ipython-input-120-34111b97f329>\u001b[0m in \u001b[0;36m<module>\u001b[0;34m\u001b[0m\n\u001b[0;32m----> 1\u001b[0;31m \u001b[0msparkDF\u001b[0m\u001b[0;34m.\u001b[0m\u001b[0mcorr\u001b[0m\u001b[0;34m(\u001b[0m\u001b[0;34m'CTD-2588J6.1'\u001b[0m\u001b[0;34m,\u001b[0m \u001b[0;34m'RP11-433M22.1'\u001b[0m\u001b[0;34m)\u001b[0m\u001b[0;34m\u001b[0m\u001b[0;34m\u001b[0m\u001b[0m\n\u001b[0m",
      "\u001b[0;32m/usr/local/spark/python/pyspark/sql/dataframe.py\u001b[0m in \u001b[0;36mcorr\u001b[0;34m(self, col1, col2, method)\u001b[0m\n\u001b[1;32m   2341\u001b[0m             raise ValueError(\"Currently only the calculation of the Pearson Correlation \" +\n\u001b[1;32m   2342\u001b[0m                              \"coefficient is supported.\")\n\u001b[0;32m-> 2343\u001b[0;31m         \u001b[0;32mreturn\u001b[0m \u001b[0mself\u001b[0m\u001b[0;34m.\u001b[0m\u001b[0m_jdf\u001b[0m\u001b[0;34m.\u001b[0m\u001b[0mstat\u001b[0m\u001b[0;34m(\u001b[0m\u001b[0;34m)\u001b[0m\u001b[0;34m.\u001b[0m\u001b[0mcorr\u001b[0m\u001b[0;34m(\u001b[0m\u001b[0mcol1\u001b[0m\u001b[0;34m,\u001b[0m \u001b[0mcol2\u001b[0m\u001b[0;34m,\u001b[0m \u001b[0mmethod\u001b[0m\u001b[0;34m)\u001b[0m\u001b[0;34m\u001b[0m\u001b[0;34m\u001b[0m\u001b[0m\n\u001b[0m\u001b[1;32m   2344\u001b[0m \u001b[0;34m\u001b[0m\u001b[0m\n\u001b[1;32m   2345\u001b[0m     \u001b[0;32mdef\u001b[0m \u001b[0mcov\u001b[0m\u001b[0;34m(\u001b[0m\u001b[0mself\u001b[0m\u001b[0;34m,\u001b[0m \u001b[0mcol1\u001b[0m\u001b[0;34m,\u001b[0m \u001b[0mcol2\u001b[0m\u001b[0;34m)\u001b[0m\u001b[0;34m:\u001b[0m\u001b[0;34m\u001b[0m\u001b[0;34m\u001b[0m\u001b[0m\n",
      "\u001b[0;32m/usr/local/spark/python/lib/py4j-0.10.9-src.zip/py4j/java_gateway.py\u001b[0m in \u001b[0;36m__call__\u001b[0;34m(self, *args)\u001b[0m\n\u001b[1;32m   1302\u001b[0m \u001b[0;34m\u001b[0m\u001b[0m\n\u001b[1;32m   1303\u001b[0m         \u001b[0manswer\u001b[0m \u001b[0;34m=\u001b[0m \u001b[0mself\u001b[0m\u001b[0;34m.\u001b[0m\u001b[0mgateway_client\u001b[0m\u001b[0;34m.\u001b[0m\u001b[0msend_command\u001b[0m\u001b[0;34m(\u001b[0m\u001b[0mcommand\u001b[0m\u001b[0;34m)\u001b[0m\u001b[0;34m\u001b[0m\u001b[0;34m\u001b[0m\u001b[0m\n\u001b[0;32m-> 1304\u001b[0;31m         return_value = get_return_value(\n\u001b[0m\u001b[1;32m   1305\u001b[0m             answer, self.gateway_client, self.target_id, self.name)\n\u001b[1;32m   1306\u001b[0m \u001b[0;34m\u001b[0m\u001b[0m\n",
      "\u001b[0;32m/usr/local/spark/python/pyspark/sql/utils.py\u001b[0m in \u001b[0;36mdeco\u001b[0;34m(*a, **kw)\u001b[0m\n\u001b[1;32m    109\u001b[0m     \u001b[0;32mdef\u001b[0m \u001b[0mdeco\u001b[0m\u001b[0;34m(\u001b[0m\u001b[0;34m*\u001b[0m\u001b[0ma\u001b[0m\u001b[0;34m,\u001b[0m \u001b[0;34m**\u001b[0m\u001b[0mkw\u001b[0m\u001b[0;34m)\u001b[0m\u001b[0;34m:\u001b[0m\u001b[0;34m\u001b[0m\u001b[0;34m\u001b[0m\u001b[0m\n\u001b[1;32m    110\u001b[0m         \u001b[0;32mtry\u001b[0m\u001b[0;34m:\u001b[0m\u001b[0;34m\u001b[0m\u001b[0;34m\u001b[0m\u001b[0m\n\u001b[0;32m--> 111\u001b[0;31m             \u001b[0;32mreturn\u001b[0m \u001b[0mf\u001b[0m\u001b[0;34m(\u001b[0m\u001b[0;34m*\u001b[0m\u001b[0ma\u001b[0m\u001b[0;34m,\u001b[0m \u001b[0;34m**\u001b[0m\u001b[0mkw\u001b[0m\u001b[0;34m)\u001b[0m\u001b[0;34m\u001b[0m\u001b[0;34m\u001b[0m\u001b[0m\n\u001b[0m\u001b[1;32m    112\u001b[0m         \u001b[0;32mexcept\u001b[0m \u001b[0mpy4j\u001b[0m\u001b[0;34m.\u001b[0m\u001b[0mprotocol\u001b[0m\u001b[0;34m.\u001b[0m\u001b[0mPy4JJavaError\u001b[0m \u001b[0;32mas\u001b[0m \u001b[0me\u001b[0m\u001b[0;34m:\u001b[0m\u001b[0;34m\u001b[0m\u001b[0;34m\u001b[0m\u001b[0m\n\u001b[1;32m    113\u001b[0m             \u001b[0mconverted\u001b[0m \u001b[0;34m=\u001b[0m \u001b[0mconvert_exception\u001b[0m\u001b[0;34m(\u001b[0m\u001b[0me\u001b[0m\u001b[0;34m.\u001b[0m\u001b[0mjava_exception\u001b[0m\u001b[0;34m)\u001b[0m\u001b[0;34m\u001b[0m\u001b[0;34m\u001b[0m\u001b[0m\n",
      "\u001b[0;32m/usr/local/spark/python/lib/py4j-0.10.9-src.zip/py4j/protocol.py\u001b[0m in \u001b[0;36mget_return_value\u001b[0;34m(answer, gateway_client, target_id, name)\u001b[0m\n\u001b[1;32m    324\u001b[0m             \u001b[0mvalue\u001b[0m \u001b[0;34m=\u001b[0m \u001b[0mOUTPUT_CONVERTER\u001b[0m\u001b[0;34m[\u001b[0m\u001b[0mtype\u001b[0m\u001b[0;34m]\u001b[0m\u001b[0;34m(\u001b[0m\u001b[0manswer\u001b[0m\u001b[0;34m[\u001b[0m\u001b[0;36m2\u001b[0m\u001b[0;34m:\u001b[0m\u001b[0;34m]\u001b[0m\u001b[0;34m,\u001b[0m \u001b[0mgateway_client\u001b[0m\u001b[0;34m)\u001b[0m\u001b[0;34m\u001b[0m\u001b[0;34m\u001b[0m\u001b[0m\n\u001b[1;32m    325\u001b[0m             \u001b[0;32mif\u001b[0m \u001b[0manswer\u001b[0m\u001b[0;34m[\u001b[0m\u001b[0;36m1\u001b[0m\u001b[0;34m]\u001b[0m \u001b[0;34m==\u001b[0m \u001b[0mREFERENCE_TYPE\u001b[0m\u001b[0;34m:\u001b[0m\u001b[0;34m\u001b[0m\u001b[0;34m\u001b[0m\u001b[0m\n\u001b[0;32m--> 326\u001b[0;31m                 raise Py4JJavaError(\n\u001b[0m\u001b[1;32m    327\u001b[0m                     \u001b[0;34m\"An error occurred while calling {0}{1}{2}.\\n\"\u001b[0m\u001b[0;34m.\u001b[0m\u001b[0;34m\u001b[0m\u001b[0;34m\u001b[0m\u001b[0m\n\u001b[1;32m    328\u001b[0m                     format(target_id, \".\", name), value)\n",
      "\u001b[0;31mPy4JJavaError\u001b[0m: An error occurred while calling o1098.stat.\n: java.lang.OutOfMemoryError: Java heap space\n"
     ]
    }
   ],
   "source": [
    "import time\n",
    "\n",
    "start = time.time()\n",
    "sparkDF.corr('CTD-2588J6.1', 'RP11-433M22.1')\n",
    "print(\"time:\", time.time() - start)"
   ]
  },
  {
   "cell_type": "code",
   "execution_count": null,
   "id": "cce81a95",
   "metadata": {},
   "outputs": [],
   "source": [
    "sparkDF.printSchema()"
   ]
  },
  {
   "cell_type": "code",
   "execution_count": null,
   "id": "8b0f2524",
   "metadata": {},
   "outputs": [],
   "source": [
    "sparkDF.show()"
   ]
  },
  {
   "cell_type": "code",
   "execution_count": null,
   "id": "732ad279",
   "metadata": {},
   "outputs": [],
   "source": []
  },
  {
   "cell_type": "markdown",
   "id": "6e61d364",
   "metadata": {},
   "source": [
    "https://stackoverflow.com/questions/60430645/get-a-correlation-matrix-in-pyspark-with-a-large-dataset"
   ]
  },
  {
   "cell_type": "code",
   "execution_count": null,
   "id": "47016572",
   "metadata": {},
   "outputs": [],
   "source": []
  },
  {
   "cell_type": "code",
   "execution_count": null,
   "id": "b5caecc5",
   "metadata": {},
   "outputs": [],
   "source": [
    "df = GTEx_Breast_norm_count.select(GTEx_breast_sample)"
   ]
  },
  {
   "cell_type": "code",
   "execution_count": null,
   "id": "4745ec4e",
   "metadata": {},
   "outputs": [],
   "source": [
    "from pyspark.ml.stat import Correlation\n",
    "from pyspark.ml.feature import VectorAssembler\n",
    "\n",
    "# convert to vector column first\n",
    "vector_col = \"corr_features\"\n",
    "assembler = VectorAssembler(inputCols=df.columns, outputCol=vector_col)\n",
    "df_vector = assembler.transform(df).select(vector_col)\n",
    "\n",
    "# get correlation matrix\n",
    "matrix = Correlation.corr(df_vector, vector_col)"
   ]
  },
  {
   "cell_type": "code",
   "execution_count": 83,
   "id": "4d569a8e",
   "metadata": {
    "scrolled": true
   },
   "outputs": [
    {
     "data": {
      "text/html": [
       "<table border='1'>\n",
       "<tr><th>pearson(corr_features)</th></tr>\n",
       "<tr><td>1.0              ...</td></tr>\n",
       "</table>\n"
      ],
      "text/plain": [
       "+----------------------+\n",
       "|pearson(corr_features)|\n",
       "+----------------------+\n",
       "|  1.0              ...|\n",
       "+----------------------+"
      ]
     },
     "execution_count": 83,
     "metadata": {},
     "output_type": "execute_result"
    }
   ],
   "source": [
    "matrix"
   ]
  },
  {
   "cell_type": "code",
   "execution_count": null,
   "id": "30445109",
   "metadata": {},
   "outputs": [],
   "source": []
  },
  {
   "cell_type": "code",
   "execution_count": 96,
   "id": "506f1048",
   "metadata": {},
   "outputs": [],
   "source": [
    "corr = matrix.collect()[0][\"pearson({})\".format(vector_col)].values"
   ]
  },
  {
   "cell_type": "code",
   "execution_count": null,
   "id": "1c454947",
   "metadata": {},
   "outputs": [],
   "source": []
  }
 ],
 "metadata": {
  "kernelspec": {
   "display_name": "Python 3",
   "language": "python",
   "name": "python3"
  },
  "language_info": {
   "codemirror_mode": {
    "name": "ipython",
    "version": 3
   },
   "file_extension": ".py",
   "mimetype": "text/x-python",
   "name": "python",
   "nbconvert_exporter": "python",
   "pygments_lexer": "ipython3",
   "version": "3.8.8"
  }
 },
 "nbformat": 4,
 "nbformat_minor": 5
}
