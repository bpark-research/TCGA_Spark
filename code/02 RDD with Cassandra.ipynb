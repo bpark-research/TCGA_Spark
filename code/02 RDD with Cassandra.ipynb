{
 "cells": [
  {
   "cell_type": "code",
   "execution_count": 2,
   "id": "332cf699",
   "metadata": {},
   "outputs": [
    {
     "name": "stdout",
     "output_type": "stream",
     "text": [
      "Collecting findspark\n",
      "  Downloading findspark-1.4.2-py2.py3-none-any.whl (4.2 kB)\n",
      "Installing collected packages: findspark\n",
      "Successfully installed findspark-1.4.2\n"
     ]
    }
   ],
   "source": [
    "!pip install findspark"
   ]
  },
  {
   "cell_type": "code",
   "execution_count": 8,
   "id": "46af408c",
   "metadata": {},
   "outputs": [
    {
     "name": "stdout",
     "output_type": "stream",
     "text": [
      "Package                       Version\r\n",
      "----------------------------- -------------------\r\n",
      "alembic                       1.6.0\r\n",
      "anyio                         2.2.0\r\n",
      "appdirs                       1.4.4\r\n",
      "argon2-cffi                   20.1.0\r\n",
      "async-generator               1.10\r\n",
      "attrs                         20.3.0\r\n",
      "Babel                         2.9.1\r\n",
      "backcall                      0.2.0\r\n",
      "backports.functools-lru-cache 1.6.4\r\n",
      "beautifulsoup4                4.9.3\r\n",
      "bleach                        3.3.0\r\n",
      "blinker                       1.4\r\n",
      "bokeh                         2.3.1\r\n",
      "Bottleneck                    1.3.2\r\n",
      "brotlipy                      0.7.0\r\n",
      "cached-property               1.5.2\r\n",
      "certifi                       2020.12.5\r\n",
      "certipy                       0.1.3\r\n",
      "cffi                          1.14.5\r\n",
      "chardet                       4.0.0\r\n",
      "click                         7.1.2\r\n",
      "cloudpickle                   1.6.0\r\n",
      "conda                         4.10.0\r\n",
      "conda-package-handling        1.7.3\r\n",
      "cryptography                  3.4.7\r\n",
      "cycler                        0.10.0\r\n",
      "Cython                        0.29.23\r\n",
      "cytoolz                       0.11.0\r\n",
      "dask                          2021.4.1\r\n",
      "decorator                     4.4.2\r\n",
      "defusedxml                    0.7.1\r\n",
      "deprecation                   2.1.0\r\n",
      "dill                          0.3.3\r\n",
      "distributed                   2021.4.1\r\n",
      "entrypoints                   0.3\r\n",
      "findspark                     1.4.2\r\n",
      "fsspec                        2021.4.0\r\n",
      "gmpy2                         2.1.0b1\r\n",
      "greenlet                      1.0.0\r\n",
      "h5py                          3.2.1\r\n",
      "HeapDict                      1.0.1\r\n",
      "idna                          2.10\r\n",
      "imagecodecs                   2021.3.31\r\n",
      "imageio                       2.9.0\r\n",
      "importlib-metadata            4.0.1\r\n",
      "ipykernel                     5.5.4\r\n",
      "ipympl                        0.7.0\r\n",
      "ipython                       7.23.1\r\n",
      "ipython-genutils              0.2.0\r\n",
      "ipywidgets                    7.6.3\r\n",
      "jedi                          0.18.0\r\n",
      "Jinja2                        2.11.3\r\n",
      "joblib                        1.0.1\r\n",
      "json5                         0.9.5\r\n",
      "jsonschema                    3.2.0\r\n",
      "jupyter-client                6.1.12\r\n",
      "jupyter-core                  4.7.1\r\n",
      "jupyter-packaging             0.9.2\r\n",
      "jupyter-server                1.6.4\r\n",
      "jupyter-telemetry             0.1.0\r\n",
      "jupyterhub                    1.4.0\r\n",
      "jupyterlab                    3.0.14\r\n",
      "jupyterlab-pygments           0.1.2\r\n",
      "jupyterlab-server             2.5.0\r\n",
      "jupyterlab-widgets            1.0.0\r\n",
      "kiwisolver                    1.3.1\r\n",
      "llvmlite                      0.36.0\r\n",
      "locket                        0.2.0\r\n",
      "Mako                          1.1.4\r\n",
      "mamba                         0.12.2\r\n",
      "MarkupSafe                    1.1.1\r\n",
      "matplotlib                    3.4.1\r\n",
      "matplotlib-inline             0.1.2\r\n",
      "mistune                       0.8.4\r\n",
      "mock                          4.0.3\r\n",
      "mpmath                        1.2.1\r\n",
      "msgpack                       1.0.2\r\n",
      "nbclassic                     0.2.7\r\n",
      "nbclient                      0.5.3\r\n",
      "nbconvert                     6.0.7\r\n",
      "nbformat                      5.1.3\r\n",
      "nest-asyncio                  1.5.1\r\n",
      "networkx                      2.5.1\r\n",
      "notebook                      6.3.0\r\n",
      "numba                         0.53.1\r\n",
      "numexpr                       2.7.3\r\n",
      "numpy                         1.20.2\r\n",
      "oauthlib                      3.0.1\r\n",
      "olefile                       0.46\r\n",
      "packaging                     20.9\r\n",
      "pamela                        1.0.0\r\n",
      "pandas                        1.2.4\r\n",
      "pandocfilters                 1.4.2\r\n",
      "parso                         0.8.2\r\n",
      "partd                         1.2.0\r\n",
      "patsy                         0.5.1\r\n",
      "pexpect                       4.8.0\r\n",
      "pickleshare                   0.7.5\r\n",
      "Pillow                        8.1.2\r\n",
      "pip                           21.1.1\r\n",
      "pooch                         1.3.0\r\n",
      "prometheus-client             0.10.1\r\n",
      "prompt-toolkit                3.0.18\r\n",
      "protobuf                      3.15.8\r\n",
      "psutil                        5.8.0\r\n",
      "ptyprocess                    0.7.0\r\n",
      "pyarrow                       4.0.0\r\n",
      "pycosat                       0.6.3\r\n",
      "pycparser                     2.20\r\n",
      "pycurl                        7.43.0.6\r\n",
      "Pygments                      2.9.0\r\n",
      "PyJWT                         2.1.0\r\n",
      "pyOpenSSL                     20.0.1\r\n",
      "pyparsing                     2.4.7\r\n",
      "pyrsistent                    0.17.3\r\n",
      "PySocks                       1.7.1\r\n",
      "pyspark                       3.1.1\r\n",
      "python-dateutil               2.8.1\r\n",
      "python-editor                 1.0.4\r\n",
      "python-json-logger            2.0.1\r\n",
      "pytz                          2021.1\r\n",
      "PyWavelets                    1.1.1\r\n",
      "PyYAML                        5.4.1\r\n",
      "pyzmq                         22.0.3\r\n",
      "requests                      2.25.1\r\n",
      "ruamel-yaml-conda             0.15.80\r\n",
      "ruamel.yaml                   0.16.12\r\n",
      "ruamel.yaml.clib              0.2.2\r\n",
      "scikit-image                  0.18.1\r\n",
      "scikit-learn                  0.24.2\r\n",
      "scipy                         1.6.3\r\n",
      "seaborn                       0.11.1\r\n",
      "Send2Trash                    1.5.0\r\n",
      "setuptools                    49.6.0.post20210108\r\n",
      "six                           1.16.0\r\n",
      "sniffio                       1.2.0\r\n",
      "sortedcontainers              2.3.0\r\n",
      "soupsieve                     2.0.1\r\n",
      "SQLAlchemy                    1.4.13\r\n",
      "statsmodels                   0.12.2\r\n",
      "sympy                         1.8\r\n",
      "tables                        3.6.1\r\n",
      "tblib                         1.7.0\r\n",
      "terminado                     0.9.4\r\n",
      "testpath                      0.4.4\r\n",
      "threadpoolctl                 2.1.0\r\n",
      "tifffile                      2021.4.8\r\n",
      "tomlkit                       0.7.0\r\n",
      "toolz                         0.11.1\r\n",
      "tornado                       6.1\r\n",
      "tqdm                          4.60.0\r\n",
      "traitlets                     5.0.5\r\n",
      "typing-extensions             3.7.4.3\r\n",
      "urllib3                       1.26.4\r\n",
      "vincent                       0.4.4\r\n",
      "wcwidth                       0.2.5\r\n",
      "webencodings                  0.5.1\r\n",
      "wheel                         0.36.2\r\n",
      "widgetsnbextension            3.5.1\r\n",
      "xlrd                          2.0.1\r\n",
      "zict                          2.0.0\r\n",
      "zipp                          3.4.1\r\n"
     ]
    }
   ],
   "source": [
    "!pip list"
   ]
  },
  {
   "cell_type": "code",
   "execution_count": 5,
   "id": "53fe94f3",
   "metadata": {},
   "outputs": [],
   "source": [
    "import findspark\n",
    "findspark.init()"
   ]
  },
  {
   "cell_type": "code",
   "execution_count": 9,
   "id": "a3c3cfef",
   "metadata": {},
   "outputs": [],
   "source": [
    "from pyspark import SparkContext\n",
    "from pyspark.sql import SparkSession\n",
    "from pyspark.streaming import StreamingContext\n",
    "#from pyspark.streaming.kafka import KafkaUtils"
   ]
  },
  {
   "cell_type": "code",
   "execution_count": 18,
   "id": "5e4c8bda",
   "metadata": {
    "scrolled": true
   },
   "outputs": [],
   "source": [
    "#Cassandra\n",
    "import os\n",
    "os.environ['PYSPARK_SUBMIT_ARGS'] = \\\n",
    "    '--packages com.datastax.spark:spark-cassandra-connector_2.12:3.1.1' \\\n",
    "    ' --conf spark.cassandra.connection.host=localhost pyspark-shell'"
   ]
  },
  {
   "cell_type": "code",
   "execution_count": 22,
   "id": "6dc6a76c",
   "metadata": {},
   "outputs": [],
   "source": []
  },
  {
   "cell_type": "code",
   "execution_count": 1,
   "id": "c438d7be",
   "metadata": {},
   "outputs": [],
   "source": [
    "import pyspark\n",
    "from pyspark import SparkContext, SparkConf\n",
    "from pyspark.sql import SparkSession\n",
    "\n",
    "spark = SparkSession.builder \\\n",
    "    .master(\"local\") \\\n",
    "    .appName(\"Spark\") \\\n",
    "    .config(\"spark.cassandra.connection.host\", \"localhost\") \\\n",
    "    .config(\"spark.cassandra.connection.port\", \"9042\") \\\n",
    "    .getOrCreate()"
   ]
  },
  {
   "cell_type": "code",
   "execution_count": 2,
   "id": "e7cbdbc6",
   "metadata": {},
   "outputs": [],
   "source": [
    "sc = spark.sparkContext"
   ]
  },
  {
   "cell_type": "code",
   "execution_count": 3,
   "id": "c34958cd",
   "metadata": {},
   "outputs": [
    {
     "data": {
      "text/plain": [
       "'3.1.1'"
      ]
     },
     "execution_count": 3,
     "metadata": {},
     "output_type": "execute_result"
    }
   ],
   "source": [
    "sc.version"
   ]
  },
  {
   "cell_type": "code",
   "execution_count": 4,
   "id": "6d515263",
   "metadata": {},
   "outputs": [
    {
     "data": {
      "text/plain": [
       "[('spark.master', 'local'),\n",
       " ('spark.sql.warehouse.dir', 'file:/home/jovyan/code/spark-warehouse'),\n",
       " ('spark.app.name', 'Spark'),\n",
       " ('spark.executor.id', 'driver'),\n",
       " ('spark.cassandra.connection.port', '9042'),\n",
       " ('spark.cassandra.connection.host', 'localhost'),\n",
       " ('spark.driver.host', 'b5a3f48f8f4b'),\n",
       " ('spark.driver.extraJavaOptions',\n",
       "  '-Dio.netty.tryReflectionSetAccessible=true'),\n",
       " ('spark.app.id', 'local-1620297751812'),\n",
       " ('spark.rdd.compress', 'True'),\n",
       " ('spark.serializer.objectStreamReset', '100'),\n",
       " ('spark.app.startTime', '1620297750719'),\n",
       " ('spark.submit.pyFiles', ''),\n",
       " ('spark.submit.deployMode', 'client'),\n",
       " ('spark.executor.extraJavaOptions',\n",
       "  '-Dio.netty.tryReflectionSetAccessible=true'),\n",
       " ('spark.ui.showConsoleProgress', 'true'),\n",
       " ('spark.driver.port', '33385')]"
      ]
     },
     "execution_count": 4,
     "metadata": {},
     "output_type": "execute_result"
    }
   ],
   "source": [
    "sc.getConf().getAll()"
   ]
  },
  {
   "cell_type": "code",
   "execution_count": 6,
   "id": "d68d88b3",
   "metadata": {
    "scrolled": true
   },
   "outputs": [
    {
     "name": "stdout",
     "output_type": "stream",
     "text": [
      "Collecting cassandra-driver\n",
      "  Downloading cassandra_driver-3.25.0-cp38-cp38-manylinux1_x86_64.whl (3.6 MB)\n",
      "\u001b[K     |████████████████████████████████| 3.6 MB 2.0 MB/s eta 0:00:01\n",
      "\u001b[?25hCollecting geomet<0.3,>=0.1\n",
      "  Downloading geomet-0.2.1.post1-py3-none-any.whl (18 kB)\n",
      "Requirement already satisfied: six>=1.9 in /opt/conda/lib/python3.8/site-packages (from cassandra-driver) (1.16.0)\n",
      "Requirement already satisfied: click in /opt/conda/lib/python3.8/site-packages (from geomet<0.3,>=0.1->cassandra-driver) (7.1.2)\n",
      "Installing collected packages: geomet, cassandra-driver\n",
      "Successfully installed cassandra-driver-3.25.0 geomet-0.2.1.post1\n"
     ]
    }
   ],
   "source": [
    "!pip install cassandra-driver"
   ]
  },
  {
   "cell_type": "code",
   "execution_count": null,
   "id": "1b5291b7",
   "metadata": {},
   "outputs": [],
   "source": []
  },
  {
   "cell_type": "code",
   "execution_count": 3,
   "id": "be3179a7",
   "metadata": {},
   "outputs": [
    {
     "ename": "ModuleNotFoundError",
     "evalue": "No module named 'cassandra'",
     "output_type": "error",
     "traceback": [
      "\u001b[0;31m---------------------------------------------------------------------------\u001b[0m",
      "\u001b[0;31mModuleNotFoundError\u001b[0m                       Traceback (most recent call last)",
      "\u001b[0;32m<ipython-input-3-3b69a559b3d2>\u001b[0m in \u001b[0;36m<module>\u001b[0;34m\u001b[0m\n\u001b[0;32m----> 1\u001b[0;31m \u001b[0;32mimport\u001b[0m \u001b[0mcassandra\u001b[0m\u001b[0;34m\u001b[0m\u001b[0;34m\u001b[0m\u001b[0m\n\u001b[0m\u001b[1;32m      2\u001b[0m \u001b[0;32mfrom\u001b[0m \u001b[0mcassandra\u001b[0m\u001b[0;34m.\u001b[0m\u001b[0mcluster\u001b[0m \u001b[0;32mimport\u001b[0m \u001b[0mCluster\u001b[0m\u001b[0;34m\u001b[0m\u001b[0;34m\u001b[0m\u001b[0m\n\u001b[1;32m      3\u001b[0m \u001b[0;34m\u001b[0m\u001b[0m\n\u001b[1;32m      4\u001b[0m \u001b[0mcluster\u001b[0m \u001b[0;34m=\u001b[0m \u001b[0mCluster\u001b[0m\u001b[0;34m(\u001b[0m\u001b[0;34m[\u001b[0m\u001b[0;34m'tcga_spark_cassandra-0_1'\u001b[0m\u001b[0;34m]\u001b[0m\u001b[0;34m)\u001b[0m\u001b[0;34m\u001b[0m\u001b[0;34m\u001b[0m\u001b[0m\n",
      "\u001b[0;31mModuleNotFoundError\u001b[0m: No module named 'cassandra'"
     ]
    }
   ],
   "source": [
    "import cassandra\n",
    "from cassandra.cluster import Cluster\n",
    "\n",
    "cluster = Cluster(['tcga_spark_cassandra-0_1'])"
   ]
  },
  {
   "cell_type": "code",
   "execution_count": 12,
   "id": "b86193f7",
   "metadata": {},
   "outputs": [
    {
     "ename": "NoHostAvailable",
     "evalue": "('Unable to connect to any servers', {'172.19.0.3:9042': OSError(None, \"Tried connecting to [('172.19.0.3', 9042)]. Last error: timed out\"), '172.19.0.2:9042': OSError(None, \"Tried connecting to [('172.19.0.2', 9042)]. Last error: timed out\"), '172.19.0.4:9042': OSError(None, \"Tried connecting to [('172.19.0.4', 9042)]. Last error: timed out\")})",
     "output_type": "error",
     "traceback": [
      "\u001b[0;31m---------------------------------------------------------------------------\u001b[0m",
      "\u001b[0;31mNoHostAvailable\u001b[0m                           Traceback (most recent call last)",
      "\u001b[0;32m<ipython-input-12-25ea1884bc71>\u001b[0m in \u001b[0;36m<module>\u001b[0;34m\u001b[0m\n\u001b[0;32m----> 1\u001b[0;31m \u001b[0msession\u001b[0m \u001b[0;34m=\u001b[0m \u001b[0mcluster\u001b[0m\u001b[0;34m.\u001b[0m\u001b[0mconnect\u001b[0m\u001b[0;34m(\u001b[0m\u001b[0;34m)\u001b[0m\u001b[0;34m\u001b[0m\u001b[0;34m\u001b[0m\u001b[0m\n\u001b[0m",
      "\u001b[0;32m/opt/conda/lib/python3.8/site-packages/cassandra/cluster.cpython-38-x86_64-linux-gnu.so\u001b[0m in \u001b[0;36mcassandra.cluster.Cluster.connect\u001b[0;34m()\u001b[0m\n",
      "\u001b[0;32m/opt/conda/lib/python3.8/site-packages/cassandra/cluster.cpython-38-x86_64-linux-gnu.so\u001b[0m in \u001b[0;36mcassandra.cluster.Cluster.connect\u001b[0;34m()\u001b[0m\n",
      "\u001b[0;32m/opt/conda/lib/python3.8/site-packages/cassandra/cluster.cpython-38-x86_64-linux-gnu.so\u001b[0m in \u001b[0;36mcassandra.cluster.Cluster.connect\u001b[0;34m()\u001b[0m\n",
      "\u001b[0;32m/opt/conda/lib/python3.8/site-packages/cassandra/cluster.cpython-38-x86_64-linux-gnu.so\u001b[0m in \u001b[0;36mcassandra.cluster.ControlConnection.connect\u001b[0;34m()\u001b[0m\n",
      "\u001b[0;32m/opt/conda/lib/python3.8/site-packages/cassandra/cluster.cpython-38-x86_64-linux-gnu.so\u001b[0m in \u001b[0;36mcassandra.cluster.ControlConnection._reconnect_internal\u001b[0;34m()\u001b[0m\n",
      "\u001b[0;31mNoHostAvailable\u001b[0m: ('Unable to connect to any servers', {'172.19.0.3:9042': OSError(None, \"Tried connecting to [('172.19.0.3', 9042)]. Last error: timed out\"), '172.19.0.2:9042': OSError(None, \"Tried connecting to [('172.19.0.2', 9042)]. Last error: timed out\"), '172.19.0.4:9042': OSError(None, \"Tried connecting to [('172.19.0.4', 9042)]. Last error: timed out\")})"
     ]
    }
   ],
   "source": [
    "session = cluster.connect()"
   ]
  },
  {
   "cell_type": "code",
   "execution_count": null,
   "id": "c929cbdc",
   "metadata": {},
   "outputs": [],
   "source": []
  }
 ],
 "metadata": {
  "kernelspec": {
   "display_name": "Python 3",
   "language": "python",
   "name": "python3"
  },
  "language_info": {
   "codemirror_mode": {
    "name": "ipython",
    "version": 3
   },
   "file_extension": ".py",
   "mimetype": "text/x-python",
   "name": "python",
   "nbconvert_exporter": "python",
   "pygments_lexer": "ipython3",
   "version": "3.8.8"
  }
 },
 "nbformat": 4,
 "nbformat_minor": 5
}
