{
 "metadata": {
  "language_info": {
   "codemirror_mode": {
    "name": "ipython",
    "version": 3
   },
   "file_extension": ".py",
   "mimetype": "text/x-python",
   "name": "python",
   "nbconvert_exporter": "python",
   "pygments_lexer": "ipython3",
   "version": "3.8.5"
  },
  "orig_nbformat": 2,
  "kernelspec": {
   "name": "python385jvsc74a57bd0dca0ade3e726a953b501b15e8e990130d2b7799f14cfd9f4271676035ebe5511",
   "display_name": "Python 3.8.5 64-bit ('base': conda)"
  }
 },
 "nbformat": 4,
 "nbformat_minor": 2,
 "cells": [
  {
   "cell_type": "code",
   "execution_count": 1,
   "metadata": {},
   "outputs": [],
   "source": [
    "import pandas as pd\n",
    "import dask.dataframe as dd"
   ]
  },
  {
   "cell_type": "code",
   "execution_count": 5,
   "metadata": {},
   "outputs": [],
   "source": [
    "TcgaTargetGTEX_phenotype = pd.read_csv(\"data/TcgaTargetGTEX_phenotype.txt\", sep='\\t', encoding='latin-1')"
   ]
  },
  {
   "cell_type": "code",
   "execution_count": 6,
   "metadata": {},
   "outputs": [
    {
     "output_type": "execute_result",
     "data": {
      "text/plain": [
       "            sample detailed_category primary disease or tissue _primary_site  \\\n",
       "0  TCGA-V4-A9EE-01    Uveal Melanoma            Uveal Melanoma           Eye   \n",
       "1  TCGA-VD-AA8N-01    Uveal Melanoma            Uveal Melanoma           Eye   \n",
       "2  TCGA-V4-A9EI-01    Uveal Melanoma            Uveal Melanoma           Eye   \n",
       "3  TCGA-VD-AA8O-01    Uveal Melanoma            Uveal Melanoma           Eye   \n",
       "4  TCGA-WC-A888-01    Uveal Melanoma            Uveal Melanoma           Eye   \n",
       "\n",
       "    _sample_type _gender _study  \n",
       "0  Primary Tumor    Male   TCGA  \n",
       "1  Primary Tumor    Male   TCGA  \n",
       "2  Primary Tumor    Male   TCGA  \n",
       "3  Primary Tumor    Male   TCGA  \n",
       "4  Primary Tumor    Male   TCGA  "
      ],
      "text/html": "<div>\n<style scoped>\n    .dataframe tbody tr th:only-of-type {\n        vertical-align: middle;\n    }\n\n    .dataframe tbody tr th {\n        vertical-align: top;\n    }\n\n    .dataframe thead th {\n        text-align: right;\n    }\n</style>\n<table border=\"1\" class=\"dataframe\">\n  <thead>\n    <tr style=\"text-align: right;\">\n      <th></th>\n      <th>sample</th>\n      <th>detailed_category</th>\n      <th>primary disease or tissue</th>\n      <th>_primary_site</th>\n      <th>_sample_type</th>\n      <th>_gender</th>\n      <th>_study</th>\n    </tr>\n  </thead>\n  <tbody>\n    <tr>\n      <th>0</th>\n      <td>TCGA-V4-A9EE-01</td>\n      <td>Uveal Melanoma</td>\n      <td>Uveal Melanoma</td>\n      <td>Eye</td>\n      <td>Primary Tumor</td>\n      <td>Male</td>\n      <td>TCGA</td>\n    </tr>\n    <tr>\n      <th>1</th>\n      <td>TCGA-VD-AA8N-01</td>\n      <td>Uveal Melanoma</td>\n      <td>Uveal Melanoma</td>\n      <td>Eye</td>\n      <td>Primary Tumor</td>\n      <td>Male</td>\n      <td>TCGA</td>\n    </tr>\n    <tr>\n      <th>2</th>\n      <td>TCGA-V4-A9EI-01</td>\n      <td>Uveal Melanoma</td>\n      <td>Uveal Melanoma</td>\n      <td>Eye</td>\n      <td>Primary Tumor</td>\n      <td>Male</td>\n      <td>TCGA</td>\n    </tr>\n    <tr>\n      <th>3</th>\n      <td>TCGA-VD-AA8O-01</td>\n      <td>Uveal Melanoma</td>\n      <td>Uveal Melanoma</td>\n      <td>Eye</td>\n      <td>Primary Tumor</td>\n      <td>Male</td>\n      <td>TCGA</td>\n    </tr>\n    <tr>\n      <th>4</th>\n      <td>TCGA-WC-A888-01</td>\n      <td>Uveal Melanoma</td>\n      <td>Uveal Melanoma</td>\n      <td>Eye</td>\n      <td>Primary Tumor</td>\n      <td>Male</td>\n      <td>TCGA</td>\n    </tr>\n  </tbody>\n</table>\n</div>"
     },
     "metadata": {},
     "execution_count": 6
    }
   ],
   "source": [
    "TcgaTargetGTEX_phenotype.head()"
   ]
  },
  {
   "cell_type": "code",
   "execution_count": 10,
   "metadata": {},
   "outputs": [],
   "source": [
    "# GTEx에 유방 조직 샘플만 선별\n",
    "GTEx_phenotype_breast = TcgaTargetGTEX_phenotype[(TcgaTargetGTEX_phenotype['_primary_site']=='Breast') & (TcgaTargetGTEX_phenotype['_sample_type']=='Normal Tissue')]"
   ]
  },
  {
   "cell_type": "code",
   "execution_count": 11,
   "metadata": {},
   "outputs": [
    {
     "output_type": "execute_result",
     "data": {
      "text/plain": [
       "                         sample        detailed_category  \\\n",
       "16482   GTEX-T6MN-0726-SM-32PML  Breast - Mammary Tissue   \n",
       "16483  GTEX-13NZB-2126-SM-5MR4Y  Breast - Mammary Tissue   \n",
       "16484   GTEX-ZU9S-1926-SM-5NQBP  Breast - Mammary Tissue   \n",
       "16485  GTEX-11DXW-0626-SM-5N9ER  Breast - Mammary Tissue   \n",
       "16486   GTEX-UPK5-2326-SM-3P5Z8  Breast - Mammary Tissue   \n",
       "\n",
       "      primary disease or tissue _primary_site   _sample_type _gender _study  \n",
       "16482   Breast - Mammary Tissue        Breast  Normal Tissue    Male   GTEX  \n",
       "16483   Breast - Mammary Tissue        Breast  Normal Tissue    Male   GTEX  \n",
       "16484   Breast - Mammary Tissue        Breast  Normal Tissue    Male   GTEX  \n",
       "16485   Breast - Mammary Tissue        Breast  Normal Tissue    Male   GTEX  \n",
       "16486   Breast - Mammary Tissue        Breast  Normal Tissue    Male   GTEX  "
      ],
      "text/html": "<div>\n<style scoped>\n    .dataframe tbody tr th:only-of-type {\n        vertical-align: middle;\n    }\n\n    .dataframe tbody tr th {\n        vertical-align: top;\n    }\n\n    .dataframe thead th {\n        text-align: right;\n    }\n</style>\n<table border=\"1\" class=\"dataframe\">\n  <thead>\n    <tr style=\"text-align: right;\">\n      <th></th>\n      <th>sample</th>\n      <th>detailed_category</th>\n      <th>primary disease or tissue</th>\n      <th>_primary_site</th>\n      <th>_sample_type</th>\n      <th>_gender</th>\n      <th>_study</th>\n    </tr>\n  </thead>\n  <tbody>\n    <tr>\n      <th>16482</th>\n      <td>GTEX-T6MN-0726-SM-32PML</td>\n      <td>Breast - Mammary Tissue</td>\n      <td>Breast - Mammary Tissue</td>\n      <td>Breast</td>\n      <td>Normal Tissue</td>\n      <td>Male</td>\n      <td>GTEX</td>\n    </tr>\n    <tr>\n      <th>16483</th>\n      <td>GTEX-13NZB-2126-SM-5MR4Y</td>\n      <td>Breast - Mammary Tissue</td>\n      <td>Breast - Mammary Tissue</td>\n      <td>Breast</td>\n      <td>Normal Tissue</td>\n      <td>Male</td>\n      <td>GTEX</td>\n    </tr>\n    <tr>\n      <th>16484</th>\n      <td>GTEX-ZU9S-1926-SM-5NQBP</td>\n      <td>Breast - Mammary Tissue</td>\n      <td>Breast - Mammary Tissue</td>\n      <td>Breast</td>\n      <td>Normal Tissue</td>\n      <td>Male</td>\n      <td>GTEX</td>\n    </tr>\n    <tr>\n      <th>16485</th>\n      <td>GTEX-11DXW-0626-SM-5N9ER</td>\n      <td>Breast - Mammary Tissue</td>\n      <td>Breast - Mammary Tissue</td>\n      <td>Breast</td>\n      <td>Normal Tissue</td>\n      <td>Male</td>\n      <td>GTEX</td>\n    </tr>\n    <tr>\n      <th>16486</th>\n      <td>GTEX-UPK5-2326-SM-3P5Z8</td>\n      <td>Breast - Mammary Tissue</td>\n      <td>Breast - Mammary Tissue</td>\n      <td>Breast</td>\n      <td>Normal Tissue</td>\n      <td>Male</td>\n      <td>GTEX</td>\n    </tr>\n  </tbody>\n</table>\n</div>"
     },
     "metadata": {},
     "execution_count": 11
    }
   ],
   "source": [
    "GTEx_phenotype_breast.head()"
   ]
  },
  {
   "cell_type": "code",
   "execution_count": 12,
   "metadata": {},
   "outputs": [
    {
     "output_type": "execute_result",
     "data": {
      "text/plain": [
       "sample                       179\n",
       "detailed_category            179\n",
       "primary disease or tissue    179\n",
       "_primary_site                179\n",
       "_sample_type                 179\n",
       "_gender                      179\n",
       "_study                       179\n",
       "dtype: int64"
      ]
     },
     "metadata": {},
     "execution_count": 12
    }
   ],
   "source": [
    "GTEx_phenotype_breast.count()"
   ]
  },
  {
   "cell_type": "code",
   "execution_count": 14,
   "metadata": {},
   "outputs": [],
   "source": [
    "GTEx_phenotype_breast_list = list(GTEx_phenotype_breast['sample'])\n",
    "GTEx_phenotype_breast_list.sort()\n",
    "GTEx_phenotype_breast_list.insert(0,'gene')"
   ]
  },
  {
   "cell_type": "code",
   "execution_count": 15,
   "metadata": {},
   "outputs": [
    {
     "output_type": "execute_result",
     "data": {
      "text/plain": [
       "['gene',\n",
       " 'GTEX-1117F-2826-SM-5GZXL',\n",
       " 'GTEX-111YS-1926-SM-5GICC',\n",
       " 'GTEX-117XS-1926-SM-5GICO',\n",
       " 'GTEX-117YX-1426-SM-5H12H',\n",
       " 'GTEX-1192X-2326-SM-5987X',\n",
       " 'GTEX-11DXW-0626-SM-5N9ER',\n",
       " 'GTEX-11DXZ-1926-SM-5GZZL',\n",
       " 'GTEX-11EI6-0626-SM-5985T',\n",
       " 'GTEX-11EM3-1326-SM-5N9C6']"
      ]
     },
     "metadata": {},
     "execution_count": 15
    }
   ],
   "source": [
    "GTEX_phenotype_breast_list[0:10]"
   ]
  },
  {
   "cell_type": "code",
   "execution_count": null,
   "metadata": {},
   "outputs": [],
   "source": [
    "# dask의 dataframe으로 load\n",
    "filename = 'data/TcgaTargetGtex_RSEM_Hugo_norm_count'\n",
    "TcgaTargetGtex_data = dd.read_csv(filename, sample = 2000000, sep='\\t', encoding='utf-8')"
   ]
  },
  {
   "cell_type": "code",
   "execution_count": null,
   "metadata": {},
   "outputs": [],
   "source": [
    "TcgaTargetGtex_data.head()"
   ]
  },
  {
   "cell_type": "code",
   "execution_count": null,
   "metadata": {},
   "outputs": [],
   "source": [
    "new_columns = list(TcgaTargetGtex_data.columns)\n",
    "new_columns[0] = 'gene'"
   ]
  },
  {
   "cell_type": "code",
   "execution_count": null,
   "metadata": {},
   "outputs": [],
   "source": [
    " new_columns[0:10]"
   ]
  },
  {
   "cell_type": "code",
   "execution_count": null,
   "metadata": {},
   "outputs": [],
   "source": [
    " #TcgaTargetGtex_data의 colname 재명명\n",
    "TcgaTargetGtex_data = TcgaTargetGtex_data.rename(columns={'sample':'gene'})"
   ]
  },
  {
   "cell_type": "code",
   "execution_count": null,
   "metadata": {},
   "outputs": [],
   "source": [
    "GTEx_breast_data = TcgaTargetGtex_data[GTEx_phenotype_breast_list]"
   ]
  }
 ]
}